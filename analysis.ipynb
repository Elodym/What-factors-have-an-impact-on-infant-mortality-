{
 "cells": [
  {
   "cell_type": "markdown",
   "metadata": {},
   "source": [
    "# What factors have an impact on infant mortality?"
   ]
  },
  {
   "cell_type": "code",
   "execution_count": 1,
   "metadata": {},
   "outputs": [],
   "source": [
    "import pandas as pd\n",
    "import numpy as np\n",
    "import matplotlib.pyplot as plt\n",
    "import seaborn as sns\n",
    "import sklearn\n",
    "from sklearn.linear_model import LinearRegression\n",
    "import statsmodels.api as sm\n",
    "from scipy import stats\n",
    "from statistics import mean"
   ]
  },
  {
   "cell_type": "code",
   "execution_count": 2,
   "metadata": {},
   "outputs": [
    {
     "data": {
      "text/html": [
       "<div>\n",
       "<style scoped>\n",
       "    .dataframe tbody tr th:only-of-type {\n",
       "        vertical-align: middle;\n",
       "    }\n",
       "\n",
       "    .dataframe tbody tr th {\n",
       "        vertical-align: top;\n",
       "    }\n",
       "\n",
       "    .dataframe thead th {\n",
       "        text-align: right;\n",
       "    }\n",
       "</style>\n",
       "<table border=\"1\" class=\"dataframe\">\n",
       "  <thead>\n",
       "    <tr style=\"text-align: right;\">\n",
       "      <th></th>\n",
       "      <th>Year</th>\n",
       "      <th>IMR</th>\n",
       "      <th>GDPPC</th>\n",
       "      <th>HEXPPC</th>\n",
       "      <th>EDUCPC</th>\n",
       "    </tr>\n",
       "  </thead>\n",
       "  <tbody>\n",
       "    <tr>\n",
       "      <th>0</th>\n",
       "      <td>1951</td>\n",
       "      <td>82.0</td>\n",
       "      <td>617.59</td>\n",
       "      <td>8.80</td>\n",
       "      <td>14.60</td>\n",
       "    </tr>\n",
       "    <tr>\n",
       "      <th>1</th>\n",
       "      <td>1952</td>\n",
       "      <td>78.0</td>\n",
       "      <td>629.63</td>\n",
       "      <td>10.51</td>\n",
       "      <td>16.47</td>\n",
       "    </tr>\n",
       "    <tr>\n",
       "      <th>2</th>\n",
       "      <td>1953</td>\n",
       "      <td>71.0</td>\n",
       "      <td>619.40</td>\n",
       "      <td>10.78</td>\n",
       "      <td>16.96</td>\n",
       "    </tr>\n",
       "    <tr>\n",
       "      <th>3</th>\n",
       "      <td>1954</td>\n",
       "      <td>72.0</td>\n",
       "      <td>623.65</td>\n",
       "      <td>10.84</td>\n",
       "      <td>15.96</td>\n",
       "    </tr>\n",
       "    <tr>\n",
       "      <th>4</th>\n",
       "      <td>1955</td>\n",
       "      <td>71.0</td>\n",
       "      <td>648.85</td>\n",
       "      <td>10.67</td>\n",
       "      <td>15.51</td>\n",
       "    </tr>\n",
       "    <tr>\n",
       "      <th>5</th>\n",
       "      <td>1956</td>\n",
       "      <td>67.0</td>\n",
       "      <td>634.94</td>\n",
       "      <td>11.40</td>\n",
       "      <td>17.84</td>\n",
       "    </tr>\n",
       "    <tr>\n",
       "      <th>6</th>\n",
       "      <td>1957</td>\n",
       "      <td>68.0</td>\n",
       "      <td>622.72</td>\n",
       "      <td>11.87</td>\n",
       "      <td>19.88</td>\n",
       "    </tr>\n",
       "    <tr>\n",
       "      <th>7</th>\n",
       "      <td>1958</td>\n",
       "      <td>64.0</td>\n",
       "      <td>619.15</td>\n",
       "      <td>12.90</td>\n",
       "      <td>22.09</td>\n",
       "    </tr>\n",
       "    <tr>\n",
       "      <th>8</th>\n",
       "      <td>1959</td>\n",
       "      <td>58.0</td>\n",
       "      <td>617.71</td>\n",
       "      <td>14.72</td>\n",
       "      <td>24.84</td>\n",
       "    </tr>\n",
       "    <tr>\n",
       "      <th>9</th>\n",
       "      <td>1960</td>\n",
       "      <td>57.0</td>\n",
       "      <td>641.41</td>\n",
       "      <td>14.28</td>\n",
       "      <td>24.14</td>\n",
       "    </tr>\n",
       "    <tr>\n",
       "      <th>10</th>\n",
       "      <td>1961</td>\n",
       "      <td>52.0</td>\n",
       "      <td>646.34</td>\n",
       "      <td>15.86</td>\n",
       "      <td>29.64</td>\n",
       "    </tr>\n",
       "    <tr>\n",
       "      <th>11</th>\n",
       "      <td>1962</td>\n",
       "      <td>53.0</td>\n",
       "      <td>649.81</td>\n",
       "      <td>14.56</td>\n",
       "      <td>30.31</td>\n",
       "    </tr>\n",
       "    <tr>\n",
       "      <th>12</th>\n",
       "      <td>1963</td>\n",
       "      <td>56.0</td>\n",
       "      <td>655.75</td>\n",
       "      <td>14.77</td>\n",
       "      <td>31.44</td>\n",
       "    </tr>\n",
       "    <tr>\n",
       "      <th>13</th>\n",
       "      <td>1964</td>\n",
       "      <td>55.0</td>\n",
       "      <td>697.83</td>\n",
       "      <td>13.82</td>\n",
       "      <td>32.27</td>\n",
       "    </tr>\n",
       "    <tr>\n",
       "      <th>14</th>\n",
       "      <td>1965</td>\n",
       "      <td>53.0</td>\n",
       "      <td>694.04</td>\n",
       "      <td>13.98</td>\n",
       "      <td>33.38</td>\n",
       "    </tr>\n",
       "    <tr>\n",
       "      <th>15</th>\n",
       "      <td>1966</td>\n",
       "      <td>54.0</td>\n",
       "      <td>688.95</td>\n",
       "      <td>14.45</td>\n",
       "      <td>32.49</td>\n",
       "    </tr>\n",
       "    <tr>\n",
       "      <th>16</th>\n",
       "      <td>1967</td>\n",
       "      <td>48.0</td>\n",
       "      <td>705.56</td>\n",
       "      <td>14.38</td>\n",
       "      <td>30.53</td>\n",
       "    </tr>\n",
       "    <tr>\n",
       "      <th>17</th>\n",
       "      <td>1968</td>\n",
       "      <td>50.0</td>\n",
       "      <td>744.75</td>\n",
       "      <td>14.74</td>\n",
       "      <td>30.13</td>\n",
       "    </tr>\n",
       "    <tr>\n",
       "      <th>18</th>\n",
       "      <td>1969</td>\n",
       "      <td>53.0</td>\n",
       "      <td>767.87</td>\n",
       "      <td>15.99</td>\n",
       "      <td>32.26</td>\n",
       "    </tr>\n",
       "    <tr>\n",
       "      <th>19</th>\n",
       "      <td>1970</td>\n",
       "      <td>47.0</td>\n",
       "      <td>786.16</td>\n",
       "      <td>16.10</td>\n",
       "      <td>35.53</td>\n",
       "    </tr>\n",
       "    <tr>\n",
       "      <th>20</th>\n",
       "      <td>1971</td>\n",
       "      <td>45.0</td>\n",
       "      <td>780.63</td>\n",
       "      <td>16.16</td>\n",
       "      <td>32.42</td>\n",
       "    </tr>\n",
       "    <tr>\n",
       "      <th>21</th>\n",
       "      <td>1972</td>\n",
       "      <td>46.0</td>\n",
       "      <td>786.43</td>\n",
       "      <td>15.62</td>\n",
       "      <td>33.67</td>\n",
       "    </tr>\n",
       "    <tr>\n",
       "      <th>22</th>\n",
       "      <td>1973</td>\n",
       "      <td>46.0</td>\n",
       "      <td>802.60</td>\n",
       "      <td>13.80</td>\n",
       "      <td>31.03</td>\n",
       "    </tr>\n",
       "    <tr>\n",
       "      <th>23</th>\n",
       "      <td>1974</td>\n",
       "      <td>51.0</td>\n",
       "      <td>825.15</td>\n",
       "      <td>11.63</td>\n",
       "      <td>24.44</td>\n",
       "    </tr>\n",
       "    <tr>\n",
       "      <th>24</th>\n",
       "      <td>1975</td>\n",
       "      <td>45.0</td>\n",
       "      <td>883.11</td>\n",
       "      <td>12.63</td>\n",
       "      <td>25.89</td>\n",
       "    </tr>\n",
       "    <tr>\n",
       "      <th>25</th>\n",
       "      <td>1976</td>\n",
       "      <td>44.0</td>\n",
       "      <td>842.48</td>\n",
       "      <td>14.28</td>\n",
       "      <td>28.66</td>\n",
       "    </tr>\n",
       "    <tr>\n",
       "      <th>26</th>\n",
       "      <td>1977</td>\n",
       "      <td>42.0</td>\n",
       "      <td>860.07</td>\n",
       "      <td>13.45</td>\n",
       "      <td>25.17</td>\n",
       "    </tr>\n",
       "    <tr>\n",
       "      <th>27</th>\n",
       "      <td>1978</td>\n",
       "      <td>37.0</td>\n",
       "      <td>924.96</td>\n",
       "      <td>15.42</td>\n",
       "      <td>25.25</td>\n",
       "    </tr>\n",
       "    <tr>\n",
       "      <th>28</th>\n",
       "      <td>1979</td>\n",
       "      <td>38.0</td>\n",
       "      <td>956.14</td>\n",
       "      <td>16.54</td>\n",
       "      <td>29.78</td>\n",
       "    </tr>\n",
       "    <tr>\n",
       "      <th>29</th>\n",
       "      <td>1980</td>\n",
       "      <td>34.0</td>\n",
       "      <td>997.82</td>\n",
       "      <td>15.84</td>\n",
       "      <td>32.29</td>\n",
       "    </tr>\n",
       "    <tr>\n",
       "      <th>30</th>\n",
       "      <td>1981</td>\n",
       "      <td>29.5</td>\n",
       "      <td>1034.60</td>\n",
       "      <td>14.08</td>\n",
       "      <td>30.93</td>\n",
       "    </tr>\n",
       "  </tbody>\n",
       "</table>\n",
       "</div>"
      ],
      "text/plain": [
       "    Year   IMR    GDPPC  HEXPPC  EDUCPC \n",
       "0   1951  82.0   617.59    8.80    14.60\n",
       "1   1952  78.0   629.63   10.51    16.47\n",
       "2   1953  71.0   619.40   10.78    16.96\n",
       "3   1954  72.0   623.65   10.84    15.96\n",
       "4   1955  71.0   648.85   10.67    15.51\n",
       "5   1956  67.0   634.94   11.40    17.84\n",
       "6   1957  68.0   622.72   11.87    19.88\n",
       "7   1958  64.0   619.15   12.90    22.09\n",
       "8   1959  58.0   617.71   14.72    24.84\n",
       "9   1960  57.0   641.41   14.28    24.14\n",
       "10  1961  52.0   646.34   15.86    29.64\n",
       "11  1962  53.0   649.81   14.56    30.31\n",
       "12  1963  56.0   655.75   14.77    31.44\n",
       "13  1964  55.0   697.83   13.82    32.27\n",
       "14  1965  53.0   694.04   13.98    33.38\n",
       "15  1966  54.0   688.95   14.45    32.49\n",
       "16  1967  48.0   705.56   14.38    30.53\n",
       "17  1968  50.0   744.75   14.74    30.13\n",
       "18  1969  53.0   767.87   15.99    32.26\n",
       "19  1970  47.0   786.16   16.10    35.53\n",
       "20  1971  45.0   780.63   16.16    32.42\n",
       "21  1972  46.0   786.43   15.62    33.67\n",
       "22  1973  46.0   802.60   13.80    31.03\n",
       "23  1974  51.0   825.15   11.63    24.44\n",
       "24  1975  45.0   883.11   12.63    25.89\n",
       "25  1976  44.0   842.48   14.28    28.66\n",
       "26  1977  42.0   860.07   13.45    25.17\n",
       "27  1978  37.0   924.96   15.42    25.25\n",
       "28  1979  38.0   956.14   16.54    29.78\n",
       "29  1980  34.0   997.82   15.84    32.29\n",
       "30  1981  29.5  1034.60   14.08    30.93"
      ]
     },
     "execution_count": 2,
     "metadata": {},
     "output_type": "execute_result"
    }
   ],
   "source": [
    "#step 1: import data\n",
    "df = pd.read_excel ('raw_data.xlsx')\n",
    "df"
   ]
  },
  {
   "cell_type": "markdown",
   "metadata": {},
   "source": [
    "Variable names:\n",
    "\n",
    "    IMR = infant mortality rate\n",
    "    GDPPC = GDP per capita\n",
    "    HEXPPC = health expenditure per capita\n",
    "    EDUCPC = educational expenditure per capita"
   ]
  },
  {
   "cell_type": "code",
   "execution_count": 3,
   "metadata": {},
   "outputs": [
    {
     "data": {
      "text/plain": [
       "(31, 5)"
      ]
     },
     "execution_count": 3,
     "metadata": {},
     "output_type": "execute_result"
    }
   ],
   "source": [
    "df.shape"
   ]
  },
  {
   "cell_type": "code",
   "execution_count": 4,
   "metadata": {},
   "outputs": [
    {
     "data": {
      "text/plain": [
       "Year         int64\n",
       "IMR        float64\n",
       "GDPPC      float64\n",
       "HEXPPC     float64\n",
       "EDUCPC     float64\n",
       "dtype: object"
      ]
     },
     "execution_count": 4,
     "metadata": {},
     "output_type": "execute_result"
    }
   ],
   "source": [
    "#step 2: check data types\n",
    "df.dtypes"
   ]
  },
  {
   "cell_type": "code",
   "execution_count": 53,
   "metadata": {
    "scrolled": false
   },
   "outputs": [
    {
     "data": {
      "image/png": "[encoded data removed]",
      "text/plain": [
       "<Figure size 600x400 with 1 Axes>"
      ]
     },
     "metadata": {
      "needs_background": "light"
     },
     "output_type": "display_data"
    }
   ],
   "source": [
    "#step 3: visualise variables\n",
    "df.plot(\n",
    "    x='Year',\n",
    "    y='IMR',\n",
    "    kind='line',\n",
    "    color='blue',\n",
    "    title='Infant mortality rate')\n",
    "plt.rcParams['figure.dpi'] = 100\n",
    "plt.rcParams['figure.figsize'] = [6, 4]"
   ]
  },
  {
   "cell_type": "code",
   "execution_count": 54,
   "metadata": {},
   "outputs": [
    {
     "data": {
      "text/plain": [
       "<matplotlib.axes._subplots.AxesSubplot at 0x1879efa6d30>"
      ]
     },
     "execution_count": 54,
     "metadata": {},
     "output_type": "execute_result"
    },
    {
     "data": {
      "image/png": "[encoded data removed]",
      "text/plain": [
       "<Figure size 600x400 with 1 Axes>"
      ]
     },
     "metadata": {
      "needs_background": "light"
     },
     "output_type": "display_data"
    }
   ],
   "source": [
    "df.plot(\n",
    "    x='Year',\n",
    "    y='GDPPC',\n",
    "    kind='line',\n",
    "    color='red',\n",
    "    title='Real GDP per capita')"
   ]
  },
  {
   "cell_type": "code",
   "execution_count": 55,
   "metadata": {},
   "outputs": [
    {
     "data": {
      "text/plain": [
       "<matplotlib.axes._subplots.AxesSubplot at 0x1879f0f1278>"
      ]
     },
     "execution_count": 55,
     "metadata": {},
     "output_type": "execute_result"
    },
    {
     "data": {
      "image/png": "[encoded data removed]",
      "text/plain": [
       "<Figure size 600x400 with 1 Axes>"
      ]
     },
     "metadata": {
      "needs_background": "light"
     },
     "output_type": "display_data"
    }
   ],
   "source": [
    "df.plot(\n",
    "    x='Year',\n",
    "    y='HEXPPC',\n",
    "    kind='line',\n",
    "    color='green',\n",
    "    title='Health expenditures per capita')"
   ]
  },
  {
   "cell_type": "code",
   "execution_count": 56,
   "metadata": {},
   "outputs": [
    {
     "data": {
      "text/plain": [
       "<matplotlib.axes._subplots.AxesSubplot at 0x187a0c34e10>"
      ]
     },
     "execution_count": 56,
     "metadata": {},
     "output_type": "execute_result"
    },
    {
     "data": {
      "image/png": "[encoded data removed]",
      "text/plain": [
       "<Figure size 600x400 with 1 Axes>"
      ]
     },
     "metadata": {
      "needs_background": "light"
     },
     "output_type": "display_data"
    }
   ],
   "source": [
    "df.plot(\n",
    "    x='Year',\n",
    "    y='EDUCPC ',\n",
    "    kind='line',\n",
    "    color='yellow',\n",
    "    title='Educational expenditures per capita')\n",
    "#tried to use rstrip() to remove whitsepace after EDUCPC variable. Too much pain"
   ]
  },
  {
   "cell_type": "code",
   "execution_count": 9,
   "metadata": {},
   "outputs": [
    {
     "data": {
      "text/html": [
       "<div>\n",
       "<style scoped>\n",
       "    .dataframe tbody tr th:only-of-type {\n",
       "        vertical-align: middle;\n",
       "    }\n",
       "\n",
       "    .dataframe tbody tr th {\n",
       "        vertical-align: top;\n",
       "    }\n",
       "\n",
       "    .dataframe thead th {\n",
       "        text-align: right;\n",
       "    }\n",
       "</style>\n",
       "<table border=\"1\" class=\"dataframe\">\n",
       "  <thead>\n",
       "    <tr style=\"text-align: right;\">\n",
       "      <th></th>\n",
       "      <th>Year</th>\n",
       "      <th>IMR</th>\n",
       "      <th>GDPPC</th>\n",
       "      <th>HEXPPC</th>\n",
       "      <th>EDUCPC</th>\n",
       "    </tr>\n",
       "  </thead>\n",
       "  <tbody>\n",
       "    <tr>\n",
       "      <th>count</th>\n",
       "      <td>31.000000</td>\n",
       "      <td>31.000000</td>\n",
       "      <td>31.000000</td>\n",
       "      <td>31.000000</td>\n",
       "      <td>31.000000</td>\n",
       "    </tr>\n",
       "    <tr>\n",
       "      <th>mean</th>\n",
       "      <td>1966.000000</td>\n",
       "      <td>53.758065</td>\n",
       "      <td>742.132258</td>\n",
       "      <td>13.705484</td>\n",
       "      <td>26.638710</td>\n",
       "    </tr>\n",
       "    <tr>\n",
       "      <th>std</th>\n",
       "      <td>9.092121</td>\n",
       "      <td>12.847095</td>\n",
       "      <td>123.378309</td>\n",
       "      <td>2.014994</td>\n",
       "      <td>6.335115</td>\n",
       "    </tr>\n",
       "    <tr>\n",
       "      <th>min</th>\n",
       "      <td>1951.000000</td>\n",
       "      <td>29.500000</td>\n",
       "      <td>617.590000</td>\n",
       "      <td>8.800000</td>\n",
       "      <td>14.600000</td>\n",
       "    </tr>\n",
       "    <tr>\n",
       "      <th>25%</th>\n",
       "      <td>1958.500000</td>\n",
       "      <td>45.500000</td>\n",
       "      <td>638.175000</td>\n",
       "      <td>12.250000</td>\n",
       "      <td>23.115000</td>\n",
       "    </tr>\n",
       "    <tr>\n",
       "      <th>50%</th>\n",
       "      <td>1966.000000</td>\n",
       "      <td>53.000000</td>\n",
       "      <td>697.830000</td>\n",
       "      <td>14.280000</td>\n",
       "      <td>29.640000</td>\n",
       "    </tr>\n",
       "    <tr>\n",
       "      <th>75%</th>\n",
       "      <td>1973.500000</td>\n",
       "      <td>61.000000</td>\n",
       "      <td>813.875000</td>\n",
       "      <td>15.095000</td>\n",
       "      <td>31.850000</td>\n",
       "    </tr>\n",
       "    <tr>\n",
       "      <th>max</th>\n",
       "      <td>1981.000000</td>\n",
       "      <td>82.000000</td>\n",
       "      <td>1034.600000</td>\n",
       "      <td>16.540000</td>\n",
       "      <td>35.530000</td>\n",
       "    </tr>\n",
       "  </tbody>\n",
       "</table>\n",
       "</div>"
      ],
      "text/plain": [
       "              Year        IMR        GDPPC     HEXPPC    EDUCPC \n",
       "count    31.000000  31.000000    31.000000  31.000000  31.000000\n",
       "mean   1966.000000  53.758065   742.132258  13.705484  26.638710\n",
       "std       9.092121  12.847095   123.378309   2.014994   6.335115\n",
       "min    1951.000000  29.500000   617.590000   8.800000  14.600000\n",
       "25%    1958.500000  45.500000   638.175000  12.250000  23.115000\n",
       "50%    1966.000000  53.000000   697.830000  14.280000  29.640000\n",
       "75%    1973.500000  61.000000   813.875000  15.095000  31.850000\n",
       "max    1981.000000  82.000000  1034.600000  16.540000  35.530000"
      ]
     },
     "execution_count": 9,
     "metadata": {},
     "output_type": "execute_result"
    }
   ],
   "source": [
    "#step 4: descriptive stats\n",
    "df.describe()\n",
    "#correct results (cross-checked in Excel, as for all other results)"
   ]
  },
  {
   "cell_type": "code",
   "execution_count": 10,
   "metadata": {},
   "outputs": [
    {
     "name": "stdout",
     "output_type": "stream",
     "text": [
      "Median IMR: 53.0\n",
      "Median GDPPC: 697.83\n",
      "Median HEXPPC: 14.28\n",
      "Median EDUCPC: 29.64\n"
     ]
    }
   ],
   "source": [
    "#step 5: add median and mode\n",
    "print('Median IMR:', df['IMR'].median())\n",
    "print('Median GDPPC:', df['GDPPC'].median())\n",
    "print('Median HEXPPC:', df['HEXPPC'].median())\n",
    "print('Median EDUCPC:', df['EDUCPC '].median())"
   ]
  },
  {
   "cell_type": "code",
   "execution_count": 11,
   "metadata": {},
   "outputs": [
    {
     "name": "stdout",
     "output_type": "stream",
     "text": [
      "0    53.0\n",
      "dtype: float64\n",
      "0      617.59\n",
      "1      617.71\n",
      "2      619.15\n",
      "3      619.40\n",
      "4      622.72\n",
      "5      623.65\n",
      "6      629.63\n",
      "7      634.94\n",
      "8      641.41\n",
      "9      646.34\n",
      "10     648.85\n",
      "11     649.81\n",
      "12     655.75\n",
      "13     688.95\n",
      "14     694.04\n",
      "15     697.83\n",
      "16     705.56\n",
      "17     744.75\n",
      "18     767.87\n",
      "19     780.63\n",
      "20     786.16\n",
      "21     786.43\n",
      "22     802.60\n",
      "23     825.15\n",
      "24     842.48\n",
      "25     860.07\n",
      "26     883.11\n",
      "27     924.96\n",
      "28     956.14\n",
      "29     997.82\n",
      "30    1034.60\n",
      "dtype: float64\n",
      "0    14.28\n",
      "dtype: float64\n",
      "0     14.60\n",
      "1     15.51\n",
      "2     15.96\n",
      "3     16.47\n",
      "4     16.96\n",
      "5     17.84\n",
      "6     19.88\n",
      "7     22.09\n",
      "8     24.14\n",
      "9     24.44\n",
      "10    24.84\n",
      "11    25.17\n",
      "12    25.25\n",
      "13    25.89\n",
      "14    28.66\n",
      "15    29.64\n",
      "16    29.78\n",
      "17    30.13\n",
      "18    30.31\n",
      "19    30.53\n",
      "20    30.93\n",
      "21    31.03\n",
      "22    31.44\n",
      "23    32.26\n",
      "24    32.27\n",
      "25    32.29\n",
      "26    32.42\n",
      "27    32.49\n",
      "28    33.38\n",
      "29    33.67\n",
      "30    35.53\n",
      "dtype: float64\n"
     ]
    }
   ],
   "source": [
    "print(df['IMR'].mode())\n",
    "print(df['GDPPC'].mode())\n",
    "print(df['HEXPPC'].mode())\n",
    "print(df['EDUCPC '].mode())"
   ]
  },
  {
   "cell_type": "markdown",
   "metadata": {},
   "source": [
    "GDPPC and EDUCPC do not have a mode."
   ]
  },
  {
   "cell_type": "code",
   "execution_count": 13,
   "metadata": {},
   "outputs": [
    {
     "data": {
      "text/plain": [
       "Text(39, 10.5, 'median, mode')"
      ]
     },
     "execution_count": 13,
     "metadata": {},
     "output_type": "execute_result"
    },
    {
     "data": {
      "image/png": "[encoded data removed]",
      "text/plain": [
       "<Figure size 600x400 with 1 Axes>"
      ]
     },
     "metadata": {
      "needs_background": "light"
     },
     "output_type": "display_data"
    }
   ],
   "source": [
    "#step 5: plot distributions\n",
    "df['IMR'].plot(\n",
    "    kind='hist',\n",
    "    bins=6,\n",
    "    color='blue',\n",
    "    title='Distribution of infant mortality rate')\n",
    "\n",
    "#adding mean line\n",
    "plt.plot([53.75, 53.75], [0, 11], 'k-', lw=2)\n",
    "plt.annotate('mean', xy=(55.5, 10.5))\n",
    "\n",
    "#adding median line and mode\n",
    "plt.plot([53, 53], [0, 11], 'k-', lw=2, color='red')\n",
    "plt.annotate('median, mode', xy=(39, 10.5), color='red')"
   ]
  },
  {
   "cell_type": "code",
   "execution_count": 14,
   "metadata": {},
   "outputs": [
    {
     "data": {
      "text/plain": [
       "Text(690, 12.7, 'median')"
      ]
     },
     "execution_count": 14,
     "metadata": {},
     "output_type": "execute_result"
    },
    {
     "data": {
      "image/png": "[encoded data removed]",
      "text/plain": [
       "<Figure size 600x400 with 1 Axes>"
      ]
     },
     "metadata": {
      "needs_background": "light"
     },
     "output_type": "display_data"
    }
   ],
   "source": [
    "df['GDPPC'].plot(\n",
    "    kind='hist',\n",
    "    bins=6,\n",
    "    color='red',\n",
    "    title='Distribution of real GDP per capita')\n",
    "\n",
    "#adding mean line\n",
    "plt.plot([742.13, 742.13], [0, 12], 'k-', lw=2)\n",
    "plt.annotate('mean', xy=(750, 11.5))\n",
    "\n",
    "#adding median line\n",
    "plt.plot([697.83, 697.83], [0, 12], 'k-', lw=2, color='blue')\n",
    "plt.annotate('median', xy=(690, 12.7), color='blue')"
   ]
  },
  {
   "cell_type": "code",
   "execution_count": 15,
   "metadata": {},
   "outputs": [
    {
     "data": {
      "text/plain": [
       "Text(14.6, 10.3, 'median, mode')"
      ]
     },
     "execution_count": 15,
     "metadata": {},
     "output_type": "execute_result"
    },
    {
     "data": {
      "image/png": "[encoded data removed]",
      "text/plain": [
       "<Figure size 600x400 with 1 Axes>"
      ]
     },
     "metadata": {
      "needs_background": "light"
     },
     "output_type": "display_data"
    }
   ],
   "source": [
    "df['HEXPPC'].plot(\n",
    "    kind='hist',\n",
    "    bins=6,\n",
    "    color='green',\n",
    "    title='Distribution of health expenditures per capita')\n",
    "\n",
    "#adding mean line\n",
    "plt.plot([13.7, 13.7], [0, 10.5], 'k-', lw=2)\n",
    "plt.annotate('mean', xy=(12.8, 10))\n",
    "\n",
    "#adding media line and mode\n",
    "plt.plot([14.28, 14.28], [0, 10.5], 'k-', lw=2, color='red')\n",
    "plt.annotate('median, mode', xy=(14.6, 10.3), color='red')"
   ]
  },
  {
   "cell_type": "code",
   "execution_count": 16,
   "metadata": {},
   "outputs": [
    {
     "data": {
      "text/plain": [
       "Text(30.3, 9.5, 'median')"
      ]
     },
     "execution_count": 16,
     "metadata": {},
     "output_type": "execute_result"
    },
    {
     "data": {
      "image/png": "[encoded data removed]",
      "text/plain": [
       "<Figure size 600x400 with 1 Axes>"
      ]
     },
     "metadata": {
      "needs_background": "light"
     },
     "output_type": "display_data"
    }
   ],
   "source": [
    "df['EDUCPC '].plot(\n",
    "    kind='hist',\n",
    "    bins=6,\n",
    "    color='yellow',\n",
    "    title='Distribution of educational expenditures per capita')\n",
    "\n",
    "#adding mean line\n",
    "plt.plot([26.64, 26.64], [0, 8], 'k-', lw=2)\n",
    "plt.annotate('mean', xy=(26, 8.5))\n",
    "\n",
    "#adding median line\n",
    "plt.plot([29.64, 29.64], [0, 10], 'k-', lw=2, color='red')\n",
    "plt.annotate('median', xy=(30.3, 9.5), color='red')"
   ]
  },
  {
   "cell_type": "code",
   "execution_count": 17,
   "metadata": {},
   "outputs": [
    {
     "data": {
      "text/plain": [
       "<matplotlib.axes._subplots.AxesSubplot at 0x1879f2c5ef0>"
      ]
     },
     "execution_count": 17,
     "metadata": {},
     "output_type": "execute_result"
    },
    {
     "data": {
      "image/png": "[encoded data removed]",
      "text/plain": [
       "<Figure size 600x400 with 1 Axes>"
      ]
     },
     "metadata": {
      "needs_background": "light"
     },
     "output_type": "display_data"
    }
   ],
   "source": [
    "#step 6: visualise pairs of variables in scatter plot (always including IMR)\n",
    "df.plot.scatter(\n",
    "    x='IMR',\n",
    "    y='GDPPC')"
   ]
  },
  {
   "cell_type": "code",
   "execution_count": 63,
   "metadata": {
    "scrolled": true
   },
   "outputs": [
    {
     "data": {
      "image/png": "[encoded data removed]",
      "text/plain": [
       "<Figure size 500x350 with 1 Axes>"
      ]
     },
     "metadata": {
      "needs_background": "light"
     },
     "output_type": "display_data"
    }
   ],
   "source": [
    "df.plot.scatter(\n",
    "    x='IMR',\n",
    "    y='HEXPPC')\n",
    "plt.rcParams['figure.figsize'] = [5, 3.5]"
   ]
  },
  {
   "cell_type": "code",
   "execution_count": 19,
   "metadata": {},
   "outputs": [
    {
     "data": {
      "text/plain": [
       "<matplotlib.axes._subplots.AxesSubplot at 0x187a0589710>"
      ]
     },
     "execution_count": 19,
     "metadata": {},
     "output_type": "execute_result"
    },
    {
     "data": {
      "image/png": "[encoded data removed]",
      "text/plain": [
       "<Figure size 600x400 with 1 Axes>"
      ]
     },
     "metadata": {
      "needs_background": "light"
     },
     "output_type": "display_data"
    }
   ],
   "source": [
    "df.plot.scatter(\n",
    "    x='IMR',\n",
    "    y='EDUCPC ')"
   ]
  },
  {
   "cell_type": "code",
   "execution_count": 20,
   "metadata": {},
   "outputs": [
    {
     "data": {
      "text/plain": [
       "<matplotlib.axes._subplots.AxesSubplot at 0x187a05ee2b0>"
      ]
     },
     "execution_count": 20,
     "metadata": {},
     "output_type": "execute_result"
    },
    {
     "data": {
      "image/png": "[encoded data removed]",
      "text/plain": [
       "<Figure size 600x400 with 1 Axes>"
      ]
     },
     "metadata": {
      "needs_background": "light"
     },
     "output_type": "display_data"
    }
   ],
   "source": [
    "#step 7: compute correlation coefficient for each pair of variables\n",
    "#first I check if there are outliers in the distribution of my variables\n",
    "#if so, I will use the Spearman coefficient instead of Pearson\n",
    "\n",
    "df.boxplot(\n",
    "    column =['IMR', 'HEXPPC', 'EDUCPC '],\n",
    "    grid = False,\n",
    "    meanline=True,\n",
    "    showmeans=True,\n",
    "    showcaps=True,\n",
    "    showbox=True,            \n",
    "    showfliers=True)"
   ]
  },
  {
   "cell_type": "code",
   "execution_count": 21,
   "metadata": {},
   "outputs": [
    {
     "data": {
      "text/plain": [
       "<matplotlib.axes._subplots.AxesSubplot at 0x187a069be10>"
      ]
     },
     "execution_count": 21,
     "metadata": {},
     "output_type": "execute_result"
    },
    {
     "data": {
      "image/png": "[encoded data removed]",
      "text/plain": [
       "<Figure size 600x400 with 1 Axes>"
      ]
     },
     "metadata": {
      "needs_background": "light"
     },
     "output_type": "display_data"
    }
   ],
   "source": [
    "df.boxplot(\n",
    "    column =['GDPPC'],\n",
    "    grid = False,\n",
    "    meanline=True,\n",
    "    showmeans=True,\n",
    "    showcaps=True,\n",
    "    showbox=True,\n",
    "    showfliers=True)\n",
    "#displayed GDPPC on a different chart because it has a much larger scale. Cannot see anything in one chart"
   ]
  },
  {
   "cell_type": "markdown",
   "metadata": {},
   "source": [
    "There does not seem to be any outliers, so I use the Pearson correlaation coefficient."
   ]
  },
  {
   "cell_type": "code",
   "execution_count": 23,
   "metadata": {},
   "outputs": [
    {
     "name": "stdout",
     "output_type": "stream",
     "text": [
      "Correlation coeffcient IMR and GDPPC: -0.8628471048527903\n",
      "Correlation coeffcient IMR and HEXPPC: -0.7811298424456933\n",
      "Correlation coeffcient IMR and EDUCPC: -0.7700147560126995\n"
     ]
    }
   ],
   "source": [
    "#method 1\n",
    "corr_IMR_GDPPC = df['IMR'].corr(df['GDPPC'], method='pearson')\n",
    "print('Correlation coeffcient IMR and GDPPC:', corr_IMR_GDPPC)\n",
    "\n",
    "corr_IMR_HEXPPC = df['IMR'].corr(df['HEXPPC'], method='pearson')\n",
    "print('Correlation coeffcient IMR and HEXPPC:', corr_IMR_HEXPPC)\n",
    "\n",
    "corr_IMR_EDUCPC = df['IMR'].corr(df['EDUCPC '], method='pearson')\n",
    "print('Correlation coeffcient IMR and EDUCPC:', corr_IMR_EDUCPC)"
   ]
  },
  {
   "cell_type": "markdown",
   "metadata": {},
   "source": [
    "It seems that IMR has a strong negative correlation with each respective independent variable in the model. This is consistent with the trend of each variable and with the visualisation of pairwise variables in scatter plots."
   ]
  },
  {
   "cell_type": "code",
   "execution_count": 25,
   "metadata": {},
   "outputs": [
    {
     "name": "stdout",
     "output_type": "stream",
     "text": [
      "Spearman coefficient IMR and GDPPC: -0.9343288922824653\n",
      "Spearman coefficient IMR and HEXPPC: -0.6135997895768195\n",
      "Spearman coefficient IMR and EDUCPC: -0.5911430909927928\n"
     ]
    }
   ],
   "source": [
    "#step 8: check that results are similar using Spearman's correlation coefficient\n",
    "\n",
    "corr_IMR_GDPPC = df['IMR'].corr(df['GDPPC'], method='spearman')\n",
    "print('Spearman coefficient IMR and GDPPC:', corr_IMR_GDPPC)\n",
    "\n",
    "corr_IMR_HEXPPC = df['IMR'].corr(df['HEXPPC'], method='spearman')\n",
    "print('Spearman coefficient IMR and HEXPPC:', corr_IMR_HEXPPC)\n",
    "\n",
    "corr_IMR_EDUCPC = df['IMR'].corr(df['EDUCPC '], method='spearman')\n",
    "print('Spearman coefficient IMR and EDUCPC:', corr_IMR_EDUCPC)"
   ]
  },
  {
   "cell_type": "code",
   "execution_count": 26,
   "metadata": {},
   "outputs": [
    {
     "name": "stdout",
     "output_type": "stream",
     "text": [
      "            IMR     GDPPC\n",
      "IMR    1.000000 -0.862847\n",
      "GDPPC -0.862847  1.000000\n",
      "\n",
      "            IMR   HEXPPC\n",
      "IMR     1.00000 -0.78113\n",
      "HEXPPC -0.78113  1.00000\n",
      "\n",
      "              IMR   EDUCPC \n",
      "IMR      1.000000 -0.770015\n",
      "EDUCPC  -0.770015  1.000000\n"
     ]
    }
   ],
   "source": [
    "#method 2 is easier to read because more space\n",
    "data = df[['IMR','GDPPC']]\n",
    "correlation = data.corr(method='pearson')\n",
    "print(correlation)\n",
    "print('')\n",
    "\n",
    "data = df[['IMR','HEXPPC']]\n",
    "correlation = data.corr(method='pearson')\n",
    "print(correlation)\n",
    "print('')\n",
    "\n",
    "data = df[['IMR','EDUCPC ']]\n",
    "correlation = data.corr(method='pearson')\n",
    "print(correlation)"
   ]
  },
  {
   "cell_type": "code",
   "execution_count": 27,
   "metadata": {},
   "outputs": [
    {
     "name": "stdout",
     "output_type": "stream",
     "text": [
      "            IMR     GDPPC\n",
      "IMR    1.000000 -0.934329\n",
      "GDPPC -0.934329  1.000000\n",
      "\n",
      "           IMR  HEXPPC\n",
      "IMR     1.0000 -0.6136\n",
      "HEXPPC -0.6136  1.0000\n",
      "\n",
      "              IMR   EDUCPC \n",
      "IMR      1.000000 -0.591143\n",
      "EDUCPC  -0.591143  1.000000\n"
     ]
    }
   ],
   "source": [
    "data = df[['IMR','GDPPC']]\n",
    "correlation = data.corr(method='spearman')\n",
    "print(correlation)\n",
    "print('')\n",
    "\n",
    "data = df[['IMR','HEXPPC']]\n",
    "correlation = data.corr(method='spearman')\n",
    "print(correlation)\n",
    "print('')\n",
    "\n",
    "data = df[['IMR','EDUCPC ']]\n",
    "correlation = data.corr(method='spearman')\n",
    "print(correlation)"
   ]
  },
  {
   "cell_type": "markdown",
   "metadata": {},
   "source": [
    "Coding methods 1 and 2 show the same results, however the coefficients differ from Pearson to Spearman. A negative correlation is confirmed for all pair-wise variables. However, Spearman finds a stronger correlation between IMR and GDPPC and a weaker correlation between IMR and HEXPPC and IMR and EDUCPC respectively. This suggests that the pair IMR-GDPPC has few outliers and data points are relatively compact around the trend. In contrast, for the pairs IMR-HEXPPC and IMR-EDUCPC, the data is more spread out around the trend and there may be more outliers. This analysis is consistent with a visual intepretation of the scatter plots."
   ]
  },
  {
   "cell_type": "code",
   "execution_count": 29,
   "metadata": {},
   "outputs": [
    {
     "name": "stdout",
     "output_type": "stream",
     "text": [
      "IMR-GDPPC:\n",
      "t > t* so we reject the null hypothesis and conclude that r = - 0.862 is statistically significant at the 5% level.\n"
     ]
    }
   ],
   "source": [
    "#step 9: test the significance of each coefficient (i.e. hypothesis testing, only Pearson for now)\n",
    "\n",
    "print('IMR-GDPPC:')\n",
    "#H0: ρ = 0\n",
    "#H1: ρ ≠ 0 (two-tailed test)\n",
    "#significance level = 5%\n",
    "#n = 31\n",
    "#critical value t*(0.025, n-2) = t*(0.025, 29) = 2.045\n",
    "#t = - 6.519\n",
    "print('t > t* so we reject the null hypothesis and conclude that r = - 0.862 is statistically significant at the 5% level.')"
   ]
  },
  {
   "cell_type": "code",
   "execution_count": 30,
   "metadata": {},
   "outputs": [
    {
     "name": "stdout",
     "output_type": "stream",
     "text": [
      "IMR-HEXPPC:\n",
      "t > t* so we reject the null hypothesis and conclude that r = - 0.781 is statistically significant at the 5% level.\n"
     ]
    }
   ],
   "source": [
    "print('IMR-HEXPPC:')\n",
    "#H0: ρ = 0\n",
    "#H1: ρ ≠ 0 (two-tailed test)\n",
    "#significance level = 5%\n",
    "#n = 31\n",
    "#critical value t*(0.025, n-2) = t*(0.025, 29) = 2.045\n",
    "#t = - 6.737\n",
    "print('t > t* so we reject the null hypothesis and conclude that r = - 0.781 is statistically significant at the 5% level.')"
   ]
  },
  {
   "cell_type": "code",
   "execution_count": 31,
   "metadata": {},
   "outputs": [
    {
     "name": "stdout",
     "output_type": "stream",
     "text": [
      "IMR-EDUCPC:\n",
      "t > t* so we reject the null hypothesis and conclude that r = - 0.77 is statistically significant at the 5% level.\n"
     ]
    }
   ],
   "source": [
    "print('IMR-EDUCPC:')\n",
    "#H0: ρ = 0\n",
    "#H1: ρ ≠ 0 (two-tailed test)\n",
    "#significance level = 5%\n",
    "#n = 31\n",
    "#critical value t*(0.025, n-2) = t*(0.025, 29) = 2.045\n",
    "#t = - 6.499\n",
    "print('t > t* so we reject the null hypothesis and conclude that r = - 0.77 is statistically significant at the 5% level.')"
   ]
  },
  {
   "cell_type": "code",
   "execution_count": 32,
   "metadata": {},
   "outputs": [
    {
     "name": "stdout",
     "output_type": "stream",
     "text": [
      "IMR-GDPPC:\n",
      "t > t* so we reject the null hypothesis and conclude that r = - 0.934 is statistically significant at the 5% level.\n"
     ]
    }
   ],
   "source": [
    "#step 10: check statistical significance for Spearman\n",
    "\n",
    "print('IMR-GDPPC:')\n",
    "#H0: ρ = 0\n",
    "#H1: ρ ≠ 0 (two-tailed test)\n",
    "#significance level = 5%\n",
    "#n = 31\n",
    "#critical value t*(0.025, n-2) = t*(0.025, 29) = 2.045\n",
    "#t = - 14.078\n",
    "print('t > t* so we reject the null hypothesis and conclude that r = - 0.934 is statistically significant at the 5% level.')"
   ]
  },
  {
   "cell_type": "code",
   "execution_count": 33,
   "metadata": {},
   "outputs": [
    {
     "name": "stdout",
     "output_type": "stream",
     "text": [
      "IMR-HEXPPC:\n",
      "t > t* so we reject the null hypothesis and conclude that r = - 0.614 is statistically significant at the 5% level.\n"
     ]
    }
   ],
   "source": [
    "print('IMR-HEXPPC:')\n",
    "#H0: ρ = 0\n",
    "#H1: ρ ≠ 0 (two-tailed test)\n",
    "#significance level = 5%\n",
    "#n = 31\n",
    "#critical value t*(0.025, n-2) = t*(0.025, 29) = 2.045\n",
    "#t = - 4.185\n",
    "print('t > t* so we reject the null hypothesis and conclude that r = - 0.614 is statistically significant at the 5% level.')"
   ]
  },
  {
   "cell_type": "code",
   "execution_count": 34,
   "metadata": {},
   "outputs": [
    {
     "name": "stdout",
     "output_type": "stream",
     "text": [
      "IMR-EDUCPC:\n",
      "t > t* so we reject the null hypothesis and conclude that r = - 0.591 is statistically significant at the 5% level.\n"
     ]
    }
   ],
   "source": [
    "print('IMR-EDUCPC:')\n",
    "#H0: ρ = 0\n",
    "#H1: ρ ≠ 0 (two-tailed test)\n",
    "#significance level = 5%\n",
    "#n = 31\n",
    "#critical value t*(0.025, n-2) = t*(0.025, 29) = 2.045\n",
    "#t = - 3.945\n",
    "print('t > t* so we reject the null hypothesis and conclude that r = - 0.591 is statistically significant at the 5% level.')"
   ]
  },
  {
   "cell_type": "markdown",
   "metadata": {},
   "source": [
    "All coefficients are statistically significant at the 5% confidence level."
   ]
  },
  {
   "cell_type": "code",
   "execution_count": 36,
   "metadata": {},
   "outputs": [
    {
     "name": "stdout",
     "output_type": "stream",
     "text": [
      "R2: 0.9256353496022882\n"
     ]
    }
   ],
   "source": [
    "#step 11: regression model (excluding EDUCPC at first) - to see model improvement and whether there is ommitted variable bias\n",
    "reg_1 = LinearRegression().fit(df[['GDPPC', 'HEXPPC']], df[['IMR']])\n",
    "R2 = reg_1.score(df[['GDPPC', 'HEXPPC']], df[['IMR']])\n",
    "print('R2:', R2)"
   ]
  },
  {
   "cell_type": "code",
   "execution_count": 37,
   "metadata": {},
   "outputs": [
    {
     "name": "stdout",
     "output_type": "stream",
     "text": [
      "Intercept: [145.05905171]\n"
     ]
    }
   ],
   "source": [
    "print('Intercept:', reg_1.intercept_)"
   ]
  },
  {
   "cell_type": "code",
   "execution_count": 38,
   "metadata": {},
   "outputs": [
    {
     "name": "stdout",
     "output_type": "stream",
     "text": [
      "Slope: [[-0.06625559 -3.07399424]]\n"
     ]
    }
   ],
   "source": [
    "print('Slope:', reg_1.coef_)"
   ]
  },
  {
   "cell_type": "code",
   "execution_count": 39,
   "metadata": {},
   "outputs": [
    {
     "name": "stdout",
     "output_type": "stream",
     "text": [
      "                            OLS Regression Results                            \n",
      "==============================================================================\n",
      "Dep. Variable:                    IMR   R-squared:                       0.926\n",
      "Model:                            OLS   Adj. R-squared:                  0.920\n",
      "Method:                 Least Squares   F-statistic:                     174.3\n",
      "Date:                Sun, 15 Mar 2020   Prob (F-statistic):           1.58e-16\n",
      "Time:                        11:41:48   Log-Likelihood:                -82.344\n",
      "No. Observations:                  31   AIC:                             170.7\n",
      "Df Residuals:                      28   BIC:                             175.0\n",
      "Df Model:                           2                                         \n",
      "Covariance Type:            nonrobust                                         \n",
      "==============================================================================\n",
      "                 coef    std err          t      P>|t|      [0.025      0.975]\n",
      "------------------------------------------------------------------------------\n",
      "const        145.0591      5.017     28.911      0.000     134.781     155.337\n",
      "GDPPC         -0.0663      0.006    -10.899      0.000      -0.079      -0.054\n",
      "HEXPPC        -3.0740      0.372     -8.258      0.000      -3.836      -2.312\n",
      "==============================================================================\n",
      "Omnibus:                        2.813   Durbin-Watson:                   1.153\n",
      "Prob(Omnibus):                  0.245   Jarque-Bera (JB):                2.152\n",
      "Skew:                           0.645   Prob(JB):                        0.341\n",
      "Kurtosis:                       2.933   Cond. No.                     5.80e+03\n",
      "==============================================================================\n",
      "\n",
      "Warnings:\n",
      "[1] Standard Errors assume that the covariance matrix of the errors is correctly specified.\n",
      "[2] The condition number is large, 5.8e+03. This might indicate that there are\n",
      "strong multicollinearity or other numerical problems.\n"
     ]
    },
    {
     "name": "stderr",
     "output_type": "stream",
     "text": [
      "C:\\Program Files\\Anaconda\\lib\\site-packages\\numpy\\core\\fromnumeric.py:2389: FutureWarning: Method .ptp is deprecated and will be removed in a future version. Use numpy.ptp instead.\n",
      "  return ptp(axis=axis, out=out, **kwargs)\n"
     ]
    }
   ],
   "source": [
    "#step 12: output OLS regression table results (to check t-values at F test)\n",
    "X2 = sm.add_constant(df[['GDPPC', 'HEXPPC']])\n",
    "#this step adds a constant row to our x data. I do not fully understand why it is needed but results are incorrect otherwise\n",
    "reg_1 = sm.OLS(df[['IMR']], X2).fit()\n",
    "print(reg_1.summary())"
   ]
  },
  {
   "cell_type": "code",
   "execution_count": 40,
   "metadata": {},
   "outputs": [
    {
     "name": "stdout",
     "output_type": "stream",
     "text": [
      "[[ 617.59    8.8 ]\n",
      " [ 629.63   10.51]\n",
      " [ 619.4    10.78]\n",
      " [ 623.65   10.84]\n",
      " [ 648.85   10.67]\n",
      " [ 634.94   11.4 ]\n",
      " [ 622.72   11.87]\n",
      " [ 619.15   12.9 ]\n",
      " [ 617.71   14.72]\n",
      " [ 641.41   14.28]\n",
      " [ 646.34   15.86]\n",
      " [ 649.81   14.56]\n",
      " [ 655.75   14.77]\n",
      " [ 697.83   13.82]\n",
      " [ 694.04   13.98]\n",
      " [ 688.95   14.45]\n",
      " [ 705.56   14.38]\n",
      " [ 744.75   14.74]\n",
      " [ 767.87   15.99]\n",
      " [ 786.16   16.1 ]\n",
      " [ 780.63   16.16]\n",
      " [ 786.43   15.62]\n",
      " [ 802.6    13.8 ]\n",
      " [ 825.15   11.63]\n",
      " [ 883.11   12.63]\n",
      " [ 842.48   14.28]\n",
      " [ 860.07   13.45]\n",
      " [ 924.96   15.42]\n",
      " [ 956.14   16.54]\n",
      " [ 997.82   15.84]\n",
      " [1034.6    14.08]]\n",
      "[82.  78.  71.  72.  71.  67.  68.  64.  58.  57.  52.  53.  56.  55.\n",
      " 53.  54.  48.  50.  53.  47.  45.  46.  46.  51.  45.  44.  42.  37.\n",
      " 38.  34.  29.5]\n"
     ]
    }
   ],
   "source": [
    "#step 13: re-estimating the same model but simplifying the code with x and y as variable names\n",
    "x = df[['GDPPC', 'HEXPPC']]\n",
    "y = df['IMR']\n",
    "x, y = np.array(x), np.array(y)\n",
    "#the output below clarifies to the machine how my variables are arranged\n",
    "print(x)\n",
    "print(y)"
   ]
  },
  {
   "cell_type": "code",
   "execution_count": 41,
   "metadata": {},
   "outputs": [
    {
     "name": "stdout",
     "output_type": "stream",
     "text": [
      "                            OLS Regression Results                            \n",
      "==============================================================================\n",
      "Dep. Variable:                      y   R-squared:                       0.926\n",
      "Model:                            OLS   Adj. R-squared:                  0.920\n",
      "Method:                 Least Squares   F-statistic:                     174.3\n",
      "Date:                Sun, 15 Mar 2020   Prob (F-statistic):           1.58e-16\n",
      "Time:                        11:41:48   Log-Likelihood:                -82.344\n",
      "No. Observations:                  31   AIC:                             170.7\n",
      "Df Residuals:                      28   BIC:                             175.0\n",
      "Df Model:                           2                                         \n",
      "Covariance Type:            nonrobust                                         \n",
      "==============================================================================\n",
      "                 coef    std err          t      P>|t|      [0.025      0.975]\n",
      "------------------------------------------------------------------------------\n",
      "const        145.0591      5.017     28.911      0.000     134.781     155.337\n",
      "x1            -0.0663      0.006    -10.899      0.000      -0.079      -0.054\n",
      "x2            -3.0740      0.372     -8.258      0.000      -3.836      -2.312\n",
      "==============================================================================\n",
      "Omnibus:                        2.813   Durbin-Watson:                   1.153\n",
      "Prob(Omnibus):                  0.245   Jarque-Bera (JB):                2.152\n",
      "Skew:                           0.645   Prob(JB):                        0.341\n",
      "Kurtosis:                       2.933   Cond. No.                     5.80e+03\n",
      "==============================================================================\n",
      "\n",
      "Warnings:\n",
      "[1] Standard Errors assume that the covariance matrix of the errors is correctly specified.\n",
      "[2] The condition number is large, 5.8e+03. This might indicate that there are\n",
      "strong multicollinearity or other numerical problems.\n"
     ]
    }
   ],
   "source": [
    "reg_2 = LinearRegression().fit(x, y)\n",
    "X2 = sm.add_constant(x)\n",
    "reg_2 = sm.OLS(y, X2).fit()\n",
    "print(reg_2.summary())"
   ]
  },
  {
   "cell_type": "markdown",
   "metadata": {},
   "source": [
    "The coefficients are intepretated in the project write-up. R2 is significant so this simple model explains 92.6% of the variation in IMR."
   ]
  },
  {
   "cell_type": "code",
   "execution_count": 44,
   "metadata": {},
   "outputs": [
    {
     "name": "stdout",
     "output_type": "stream",
     "text": [
      "13.705483870967742\n"
     ]
    }
   ],
   "source": [
    "#step 14: prediction (where x, y notation becomes handy)\n",
    "GDPPC_new = 750\n",
    "HEXPPC_new = mean(df['HEXPPC'])\n",
    "print(HEXPPC_new)"
   ]
  },
  {
   "cell_type": "code",
   "execution_count": 45,
   "metadata": {},
   "outputs": [
    {
     "name": "stdout",
     "output_type": "stream",
     "text": [
      "[750, 13.705483870967742]\n",
      "[82.  78.  71.  72.  71.  67.  68.  64.  58.  57.  52.  53.  56.  55.\n",
      " 53.  54.  48.  50.  53.  47.  45.  46.  46.  51.  45.  44.  42.  37.\n",
      " 38.  34.  29.5]\n"
     ]
    }
   ],
   "source": [
    "x_new = [GDPPC_new, HEXPPC_new]\n",
    "print(x_new)\n",
    "print(y)"
   ]
  },
  {
   "cell_type": "code",
   "execution_count": 46,
   "metadata": {},
   "outputs": [],
   "source": [
    "#I did not manage to use .predict (attempted code below) so used manual computation\n",
    "\n",
    "#X2 = sm.add_constant(x_new)\n",
    "#this step adds a constant row to our x data. Don't really understand why it's needed but results are incorrect otherwise\n",
    "#reg_2 = sm.OLS(y, X2).fit()\n",
    "#reg_2.predict(x_new)"
   ]
  },
  {
   "cell_type": "code",
   "execution_count": 47,
   "metadata": {},
   "outputs": [
    {
     "name": "stdout",
     "output_type": "stream",
     "text": [
      "y_predicted: 53.428342580645165\n"
     ]
    }
   ],
   "source": [
    "#step 15: manual prediction instead\n",
    "y_new = 145.059 -0.066*750 - 3.074*HEXPPC_new\n",
    "print('y_predicted:', y_new)"
   ]
  },
  {
   "cell_type": "markdown",
   "metadata": {},
   "source": [
    "Useful to compare prediction to observed values:\n",
    "https://towardsdatascience.com/a-beginners-guide-to-linear-regression-in-python-with-scikit-learn-83a8f7ae2b4f "
   ]
  },
  {
   "cell_type": "code",
   "execution_count": 49,
   "metadata": {},
   "outputs": [
    {
     "name": "stdout",
     "output_type": "stream",
     "text": [
      "[[ 617.59    8.8    14.6 ]\n",
      " [ 629.63   10.51   16.47]\n",
      " [ 619.4    10.78   16.96]\n",
      " [ 623.65   10.84   15.96]\n",
      " [ 648.85   10.67   15.51]\n",
      " [ 634.94   11.4    17.84]\n",
      " [ 622.72   11.87   19.88]\n",
      " [ 619.15   12.9    22.09]\n",
      " [ 617.71   14.72   24.84]\n",
      " [ 641.41   14.28   24.14]\n",
      " [ 646.34   15.86   29.64]\n",
      " [ 649.81   14.56   30.31]\n",
      " [ 655.75   14.77   31.44]\n",
      " [ 697.83   13.82   32.27]\n",
      " [ 694.04   13.98   33.38]\n",
      " [ 688.95   14.45   32.49]\n",
      " [ 705.56   14.38   30.53]\n",
      " [ 744.75   14.74   30.13]\n",
      " [ 767.87   15.99   32.26]\n",
      " [ 786.16   16.1    35.53]\n",
      " [ 780.63   16.16   32.42]\n",
      " [ 786.43   15.62   33.67]\n",
      " [ 802.6    13.8    31.03]\n",
      " [ 825.15   11.63   24.44]\n",
      " [ 883.11   12.63   25.89]\n",
      " [ 842.48   14.28   28.66]\n",
      " [ 860.07   13.45   25.17]\n",
      " [ 924.96   15.42   25.25]\n",
      " [ 956.14   16.54   29.78]\n",
      " [ 997.82   15.84   32.29]\n",
      " [1034.6    14.08   30.93]]\n",
      "[82.  78.  71.  72.  71.  67.  68.  64.  58.  57.  52.  53.  56.  55.\n",
      " 53.  54.  48.  50.  53.  47.  45.  46.  46.  51.  45.  44.  42.  37.\n",
      " 38.  34.  29.5]\n"
     ]
    }
   ],
   "source": [
    "#step 16: re-estimating regression model (including EDUCPC this time)\n",
    "x = df[['GDPPC', 'HEXPPC', 'EDUCPC ']]\n",
    "y = df['IMR']\n",
    "x, y = np.array(x), np.array(y)\n",
    "#the output below clarifies to the machine how my variables are arranged\n",
    "print(x)\n",
    "print(y)"
   ]
  },
  {
   "cell_type": "code",
   "execution_count": 50,
   "metadata": {},
   "outputs": [
    {
     "name": "stdout",
     "output_type": "stream",
     "text": [
      "                            OLS Regression Results                            \n",
      "==============================================================================\n",
      "Dep. Variable:                      y   R-squared:                       0.936\n",
      "Model:                            OLS   Adj. R-squared:                  0.929\n",
      "Method:                 Least Squares   F-statistic:                     131.5\n",
      "Date:                Sun, 15 Mar 2020   Prob (F-statistic):           3.20e-16\n",
      "Time:                        11:41:48   Log-Likelihood:                -80.033\n",
      "No. Observations:                  31   AIC:                             168.1\n",
      "Df Residuals:                      27   BIC:                             173.8\n",
      "Df Model:                           3                                         \n",
      "Covariance Type:            nonrobust                                         \n",
      "==============================================================================\n",
      "                 coef    std err          t      P>|t|      [0.025      0.975]\n",
      "------------------------------------------------------------------------------\n",
      "const        139.7691      5.379     25.983      0.000     128.732     150.806\n",
      "x1            -0.0645      0.006    -11.117      0.000      -0.076      -0.053\n",
      "x2            -1.9515      0.643     -3.033      0.005      -3.272      -0.631\n",
      "x3            -0.4268      0.205     -2.084      0.047      -0.847      -0.007\n",
      "==============================================================================\n",
      "Omnibus:                        3.048   Durbin-Watson:                   1.146\n",
      "Prob(Omnibus):                  0.218   Jarque-Bera (JB):                2.431\n",
      "Skew:                           0.683   Prob(JB):                        0.297\n",
      "Kurtosis:                       2.879   Cond. No.                     6.60e+03\n",
      "==============================================================================\n",
      "\n",
      "Warnings:\n",
      "[1] Standard Errors assume that the covariance matrix of the errors is correctly specified.\n",
      "[2] The condition number is large, 6.6e+03. This might indicate that there are\n",
      "strong multicollinearity or other numerical problems.\n"
     ]
    }
   ],
   "source": [
    "#OLS output table\n",
    "reg_3 = LinearRegression().fit(x, y)\n",
    "X2 = sm.add_constant(x)\n",
    "reg_3 = sm.OLS(y, X2).fit()\n",
    "print(reg_3.summary())"
   ]
  },
  {
   "cell_type": "code",
   "execution_count": 52,
   "metadata": {},
   "outputs": [
    {
     "name": "stdout",
     "output_type": "stream",
     "text": [
      "                            OLS Regression Results                            \n",
      "==============================================================================\n",
      "Dep. Variable:                    IMR   R-squared:                       0.936\n",
      "Model:                            OLS   Adj. R-squared:                  0.929\n",
      "Method:                 Least Squares   F-statistic:                     131.5\n",
      "Date:                Sun, 15 Mar 2020   Prob (F-statistic):           3.20e-16\n",
      "Time:                        11:41:48   Log-Likelihood:                -80.033\n",
      "No. Observations:                  31   AIC:                             168.1\n",
      "Df Residuals:                      27   BIC:                             173.8\n",
      "Df Model:                           3                                         \n",
      "Covariance Type:            nonrobust                                         \n",
      "==============================================================================\n",
      "                 coef    std err          t      P>|t|      [0.025      0.975]\n",
      "------------------------------------------------------------------------------\n",
      "const        139.7691      5.379     25.983      0.000     128.732     150.806\n",
      "GDPPC         -0.0645      0.006    -11.117      0.000      -0.076      -0.053\n",
      "HEXPPC        -1.9515      0.643     -3.033      0.005      -3.272      -0.631\n",
      "EDUCPC        -0.4268      0.205     -2.084      0.047      -0.847      -0.007\n",
      "==============================================================================\n",
      "Omnibus:                        3.048   Durbin-Watson:                   1.146\n",
      "Prob(Omnibus):                  0.218   Jarque-Bera (JB):                2.431\n",
      "Skew:                           0.683   Prob(JB):                        0.297\n",
      "Kurtosis:                       2.879   Cond. No.                     6.60e+03\n",
      "==============================================================================\n",
      "\n",
      "Warnings:\n",
      "[1] Standard Errors assume that the covariance matrix of the errors is correctly specified.\n",
      "[2] The condition number is large, 6.6e+03. This might indicate that there are\n",
      "strong multicollinearity or other numerical problems.\n"
     ]
    },
    {
     "name": "stderr",
     "output_type": "stream",
     "text": [
      "C:\\Program Files\\Anaconda\\lib\\site-packages\\numpy\\core\\fromnumeric.py:2389: FutureWarning: Method .ptp is deprecated and will be removed in a future version. Use numpy.ptp instead.\n",
      "  return ptp(axis=axis, out=out, **kwargs)\n"
     ]
    }
   ],
   "source": [
    "#step 17: Re-estimate regression 2 (with variable names in the results table)\n",
    "reg_4 = LinearRegression().fit(df[['GDPPC', 'HEXPPC', 'EDUCPC ']], df[['IMR']])\n",
    "X2 = sm.add_constant(df[['GDPPC', 'HEXPPC', 'EDUCPC ']])\n",
    "reg_4 = sm.OLS(df[['IMR']], X2).fit()\n",
    "print(reg_4.summary())"
   ]
  }
 ],
 "metadata": {
  "kernelspec": {
   "display_name": "Python 3",
   "language": "python",
   "name": "python3"
  },
  "language_info": {
   "codemirror_mode": {
    "name": "ipython",
    "version": 3
   },
   "file_extension": ".py",
   "mimetype": "text/x-python",
   "name": "python",
   "nbconvert_exporter": "python",
   "pygments_lexer": "ipython3",
   "version": "3.7.3"
  }
 },
 "nbformat": 4,
 "nbformat_minor": 2
}
